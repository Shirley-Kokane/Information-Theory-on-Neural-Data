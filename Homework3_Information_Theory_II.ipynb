{
 "cells": [
  {
   "cell_type": "code",
   "execution_count": 1,
   "id": "wicked-miniature",
   "metadata": {},
   "outputs": [],
   "source": [
    "import scipy.io as sio\n",
    "import pandas as pd\n",
    "import numpy as np\n",
    "import seaborn as sns\n",
    "import matplotlib.pyplot as plt\n",
    "from os.path import dirname, join as pjoin\n",
    "import statsmodels.formula.api as smf"
   ]
  },
  {
   "cell_type": "code",
   "execution_count": 2,
   "id": "tribal-comfort",
   "metadata": {},
   "outputs": [],
   "source": [
    "data = sio.loadmat('HW3_data.mat')"
   ]
  },
  {
   "cell_type": "code",
   "execution_count": 3,
   "id": "olive-reserve",
   "metadata": {},
   "outputs": [
    {
     "data": {
      "text/plain": [
       "['__globals__', '__header__', '__version__', 'ild', 'sn', 'spike_count']"
      ]
     },
     "execution_count": 3,
     "metadata": {},
     "output_type": "execute_result"
    }
   ],
   "source": [
    "sorted(data.keys())"
   ]
  },
  {
   "cell_type": "code",
   "execution_count": 4,
   "id": "grateful-lobby",
   "metadata": {},
   "outputs": [],
   "source": [
    "df = pd.DataFrame(data = data['ild'], columns=['ild'])"
   ]
  },
  {
   "cell_type": "code",
   "execution_count": 5,
   "id": "hollywood-python",
   "metadata": {},
   "outputs": [],
   "source": [
    "df['sn'] = data['sn']\n",
    "df['spike_count'] = data['spike_count']"
   ]
  },
  {
   "cell_type": "code",
   "execution_count": 6,
   "id": "ancient-artwork",
   "metadata": {},
   "outputs": [
    {
     "data": {
      "text/html": [
       "<div>\n",
       "<style scoped>\n",
       "    .dataframe tbody tr th:only-of-type {\n",
       "        vertical-align: middle;\n",
       "    }\n",
       "\n",
       "    .dataframe tbody tr th {\n",
       "        vertical-align: top;\n",
       "    }\n",
       "\n",
       "    .dataframe thead th {\n",
       "        text-align: right;\n",
       "    }\n",
       "</style>\n",
       "<table border=\"1\" class=\"dataframe\">\n",
       "  <thead>\n",
       "    <tr style=\"text-align: right;\">\n",
       "      <th></th>\n",
       "      <th>ild</th>\n",
       "      <th>sn</th>\n",
       "      <th>spike_count</th>\n",
       "    </tr>\n",
       "  </thead>\n",
       "  <tbody>\n",
       "    <tr>\n",
       "      <th>0</th>\n",
       "      <td>1</td>\n",
       "      <td>1</td>\n",
       "      <td>11</td>\n",
       "    </tr>\n",
       "    <tr>\n",
       "      <th>1</th>\n",
       "      <td>1</td>\n",
       "      <td>1</td>\n",
       "      <td>5</td>\n",
       "    </tr>\n",
       "    <tr>\n",
       "      <th>2</th>\n",
       "      <td>1</td>\n",
       "      <td>1</td>\n",
       "      <td>32</td>\n",
       "    </tr>\n",
       "    <tr>\n",
       "      <th>3</th>\n",
       "      <td>1</td>\n",
       "      <td>1</td>\n",
       "      <td>16</td>\n",
       "    </tr>\n",
       "    <tr>\n",
       "      <th>4</th>\n",
       "      <td>1</td>\n",
       "      <td>1</td>\n",
       "      <td>28</td>\n",
       "    </tr>\n",
       "    <tr>\n",
       "      <th>...</th>\n",
       "      <td>...</td>\n",
       "      <td>...</td>\n",
       "      <td>...</td>\n",
       "    </tr>\n",
       "    <tr>\n",
       "      <th>2545</th>\n",
       "      <td>5</td>\n",
       "      <td>5</td>\n",
       "      <td>28</td>\n",
       "    </tr>\n",
       "    <tr>\n",
       "      <th>2546</th>\n",
       "      <td>5</td>\n",
       "      <td>5</td>\n",
       "      <td>30</td>\n",
       "    </tr>\n",
       "    <tr>\n",
       "      <th>2547</th>\n",
       "      <td>5</td>\n",
       "      <td>5</td>\n",
       "      <td>35</td>\n",
       "    </tr>\n",
       "    <tr>\n",
       "      <th>2548</th>\n",
       "      <td>5</td>\n",
       "      <td>5</td>\n",
       "      <td>34</td>\n",
       "    </tr>\n",
       "    <tr>\n",
       "      <th>2549</th>\n",
       "      <td>5</td>\n",
       "      <td>5</td>\n",
       "      <td>32</td>\n",
       "    </tr>\n",
       "  </tbody>\n",
       "</table>\n",
       "<p>2550 rows × 3 columns</p>\n",
       "</div>"
      ],
      "text/plain": [
       "      ild  sn  spike_count\n",
       "0       1   1           11\n",
       "1       1   1            5\n",
       "2       1   1           32\n",
       "3       1   1           16\n",
       "4       1   1           28\n",
       "...   ...  ..          ...\n",
       "2545    5   5           28\n",
       "2546    5   5           30\n",
       "2547    5   5           35\n",
       "2548    5   5           34\n",
       "2549    5   5           32\n",
       "\n",
       "[2550 rows x 3 columns]"
      ]
     },
     "execution_count": 6,
     "metadata": {},
     "output_type": "execute_result"
    }
   ],
   "source": [
    "df"
   ]
  },
  {
   "cell_type": "markdown",
   "id": "digital-mixer",
   "metadata": {},
   "source": [
    "# Q1 fitting tuning curves with linear regression\n",
    "\n",
    "## Q1a mean and std of the spike count as a function of SN"
   ]
  },
  {
   "cell_type": "code",
   "execution_count": 7,
   "id": "surgical-storage",
   "metadata": {},
   "outputs": [],
   "source": [
    "df['sn'].unique()\n",
    "df['mean_spike'] = 0\n",
    "df['std_spike'] = 0"
   ]
  },
  {
   "cell_type": "code",
   "execution_count": 8,
   "id": "incomplete-banks",
   "metadata": {},
   "outputs": [
    {
     "name": "stdout",
     "output_type": "stream",
     "text": [
      "1\n"
     ]
    },
    {
     "name": "stderr",
     "output_type": "stream",
     "text": [
      "<ipython-input-8-a21915182b1d>:11: SettingWithCopyWarning: \n",
      "A value is trying to be set on a copy of a slice from a DataFrame\n",
      "\n",
      "See the caveats in the documentation: https://pandas.pydata.org/pandas-docs/stable/user_guide/indexing.html#returning-a-view-versus-a-copy\n",
      "  df['mean_spike'][i] = mean_sn\n",
      "<ipython-input-8-a21915182b1d>:12: SettingWithCopyWarning: \n",
      "A value is trying to be set on a copy of a slice from a DataFrame\n",
      "\n",
      "See the caveats in the documentation: https://pandas.pydata.org/pandas-docs/stable/user_guide/indexing.html#returning-a-view-versus-a-copy\n",
      "  df['std_spike'][i] = std_sn\n"
     ]
    },
    {
     "name": "stdout",
     "output_type": "stream",
     "text": [
      "2\n",
      "3\n",
      "4\n",
      "5\n"
     ]
    }
   ],
   "source": [
    "all_sn= []\n",
    "for a in df['sn'].unique():\n",
    "    print(a)\n",
    "    for i in df.index:\n",
    "        if df['sn'][i] == a:\n",
    "            all_sn.append(df['spike_count'][i])\n",
    "    mean_sn = np.mean(all_sn)\n",
    "    std_sn = np.std(all_sn)\n",
    "    for i in df.index:\n",
    "        if df['sn'][i] == a:\n",
    "            df['mean_spike'][i] = mean_sn\n",
    "            df['std_spike'][i] = std_sn"
   ]
  },
  {
   "cell_type": "code",
   "execution_count": 9,
   "id": "burning-lottery",
   "metadata": {},
   "outputs": [
    {
     "data": {
      "image/png": "[encoded data removed]",
      "text/plain": [
       "<Figure size 432x288 with 1 Axes>"
      ]
     },
     "metadata": {
      "needs_background": "light"
     },
     "output_type": "display_data"
    }
   ],
   "source": [
    "plt.plot(df['sn'], df['mean_spike'], '*', label = 'Mean')\n",
    "plt.plot(df['sn'], df['std_spike'], '+', label = 'Standard Deviation')\n",
    "plt.xlabel('sn')\n",
    "plt.legend()\n",
    "plt.show()"
   ]
  },
  {
   "cell_type": "code",
   "execution_count": 10,
   "id": "seventh-somerset",
   "metadata": {},
   "outputs": [
    {
     "name": "stderr",
     "output_type": "stream",
     "text": [
      "No handles with labels found to put in legend.\n"
     ]
    },
    {
     "data": {
      "image/png": "[encoded data removed]",
      "text/plain": [
       "<Figure size 432x288 with 1 Axes>"
      ]
     },
     "metadata": {
      "needs_background": "light"
     },
     "output_type": "display_data"
    }
   ],
   "source": [
    "plt.errorbar(df['sn'], df['mean_spike'], yerr= df['std_spike'],marker='s', mfc='red')\n",
    "#plt.errorbar(df['sn'], df['mean_spike'])\n",
    "#sns.boxplot(df['sn'], df['std_spike'])\n",
    "plt.xlabel('sn')\n",
    "plt.legend()\n",
    "plt.show()"
   ]
  },
  {
   "cell_type": "markdown",
   "id": "oriented-jewel",
   "metadata": {},
   "source": [
    "## Q1b linear regression line to the spike count data as a function of SN. "
   ]
  },
  {
   "cell_type": "code",
   "execution_count": 11,
   "id": "entertaining-trout",
   "metadata": {},
   "outputs": [],
   "source": [
    "from sklearn.linear_model import LinearRegression"
   ]
  },
  {
   "cell_type": "code",
   "execution_count": 12,
   "id": "little-ethics",
   "metadata": {},
   "outputs": [],
   "source": [
    "model = LinearRegression()"
   ]
  },
  {
   "cell_type": "code",
   "execution_count": 13,
   "id": "alternative-daughter",
   "metadata": {},
   "outputs": [],
   "source": [
    "X = np.array(df['sn'])"
   ]
  },
  {
   "cell_type": "code",
   "execution_count": 14,
   "id": "resident-doctrine",
   "metadata": {},
   "outputs": [
    {
     "data": {
      "text/plain": [
       "LinearRegression()"
      ]
     },
     "execution_count": 14,
     "metadata": {},
     "output_type": "execute_result"
    }
   ],
   "source": [
    "model.fit(X.reshape((-1,1)), df['spike_count'])"
   ]
  },
  {
   "cell_type": "code",
   "execution_count": 15,
   "id": "floral-ceiling",
   "metadata": {},
   "outputs": [
    {
     "data": {
      "text/plain": [
       "1.1237254901960774"
      ]
     },
     "execution_count": 15,
     "metadata": {},
     "output_type": "execute_result"
    }
   ],
   "source": [
    "model.coef_[0]"
   ]
  },
  {
   "cell_type": "code",
   "execution_count": 16,
   "id": "likely-prairie",
   "metadata": {},
   "outputs": [
    {
     "data": {
      "text/plain": [
       "25.590784313725493"
      ]
     },
     "execution_count": 16,
     "metadata": {},
     "output_type": "execute_result"
    }
   ],
   "source": [
    "model.intercept_"
   ]
  },
  {
   "cell_type": "code",
   "execution_count": 17,
   "id": "after-property",
   "metadata": {},
   "outputs": [
    {
     "data": {
      "text/plain": [
       "0.03912527048929382"
      ]
     },
     "execution_count": 17,
     "metadata": {},
     "output_type": "execute_result"
    }
   ],
   "source": [
    "model.score(X.reshape((-1,1)), df['spike_count'])"
   ]
  },
  {
   "cell_type": "code",
   "execution_count": 18,
   "id": "organizational-blanket",
   "metadata": {},
   "outputs": [
    {
     "data": {
      "image/png": "[encoded data removed]",
      "text/plain": [
       "<Figure size 432x288 with 1 Axes>"
      ]
     },
     "metadata": {
      "needs_background": "light"
     },
     "output_type": "display_data"
    }
   ],
   "source": [
    "plt.plot(df['sn'], df['mean_spike'], '*', label = 'Mean')\n",
    "plt.plot(df['sn'], df['std_spike'], '+', label = 'Standard Deviation')\n",
    "plt.plot(df['sn'], model.coef_[0]*df['sn']+ model.intercept_, label = 'Line intercept {}\\n coefficient {}'.format(np.round(model.coef_[0],3), np.round(model.intercept_, 3)))\n",
    "plt.xlabel('sn')\n",
    "plt.legend()\n",
    "plt.show()"
   ]
  },
  {
   "cell_type": "code",
   "execution_count": 19,
   "id": "functional-vintage",
   "metadata": {},
   "outputs": [
    {
     "data": {
      "image/png": "[encoded data removed]",
      "text/plain": [
       "<Figure size 432x288 with 1 Axes>"
      ]
     },
     "metadata": {
      "needs_background": "light"
     },
     "output_type": "display_data"
    }
   ],
   "source": [
    "plt.errorbar(df['sn'], df['mean_spike'], yerr= df['std_spike'],marker='s', mfc='red')\n",
    "plt.plot(df['sn'], model.coef_[0]*df['sn']+ model.intercept_, label = 'Line intercept {}\\n coefficient {}'.format(np.round(model.coef_[0],3), np.round(model.intercept_, 3)))\n",
    "#plt.errorbar(df['sn'], df['mean_spike'])\n",
    "#sns.boxplot(df['sn'], df['std_spike'])\n",
    "plt.xlabel('sn')\n",
    "plt.legend()\n",
    "plt.show()"
   ]
  },
  {
   "cell_type": "code",
   "execution_count": 20,
   "id": "cordless-brain",
   "metadata": {},
   "outputs": [
    {
     "name": "stdout",
     "output_type": "stream",
     "text": [
      "The R square value is:  0.039125270489293845\n"
     ]
    }
   ],
   "source": [
    "corr_matrix = np.corrcoef(df['spike_count'], model.coef_[0]*df['sn']+ model.intercept_)\n",
    "corr = corr_matrix[0,1]\n",
    "R_square = corr**2\n",
    "print('The R square value is: ', R_square)"
   ]
  },
  {
   "cell_type": "code",
   "execution_count": 21,
   "id": "searching-guatemala",
   "metadata": {},
   "outputs": [],
   "source": [
    "model = smf.ols('spike_count ~ sn' , data = df).fit()"
   ]
  },
  {
   "cell_type": "code",
   "execution_count": 22,
   "id": "significant-tourism",
   "metadata": {},
   "outputs": [
    {
     "data": {
      "text/html": [
       "<table class=\"simpletable\">\n",
       "<caption>OLS Regression Results</caption>\n",
       "<tr>\n",
       "  <th>Dep. Variable:</th>       <td>spike_count</td>   <th>  R-squared:         </th> <td>   0.039</td> \n",
       "</tr>\n",
       "<tr>\n",
       "  <th>Model:</th>                   <td>OLS</td>       <th>  Adj. R-squared:    </th> <td>   0.039</td> \n",
       "</tr>\n",
       "<tr>\n",
       "  <th>Method:</th>             <td>Least Squares</td>  <th>  F-statistic:       </th> <td>   103.8</td> \n",
       "</tr>\n",
       "<tr>\n",
       "  <th>Date:</th>             <td>Sun, 10 Oct 2021</td> <th>  Prob (F-statistic):</th> <td>6.55e-24</td> \n",
       "</tr>\n",
       "<tr>\n",
       "  <th>Time:</th>                 <td>12:36:03</td>     <th>  Log-Likelihood:    </th> <td> -8880.9</td> \n",
       "</tr>\n",
       "<tr>\n",
       "  <th>No. Observations:</th>      <td>  2550</td>      <th>  AIC:               </th> <td>1.777e+04</td>\n",
       "</tr>\n",
       "<tr>\n",
       "  <th>Df Residuals:</th>          <td>  2548</td>      <th>  BIC:               </th> <td>1.778e+04</td>\n",
       "</tr>\n",
       "<tr>\n",
       "  <th>Df Model:</th>              <td>     1</td>      <th>                     </th>     <td> </td>    \n",
       "</tr>\n",
       "<tr>\n",
       "  <th>Covariance Type:</th>      <td>nonrobust</td>    <th>                     </th>     <td> </td>    \n",
       "</tr>\n",
       "</table>\n",
       "<table class=\"simpletable\">\n",
       "<tr>\n",
       "      <td></td>         <th>coef</th>     <th>std err</th>      <th>t</th>      <th>P>|t|</th>  <th>[0.025</th>    <th>0.975]</th>  \n",
       "</tr>\n",
       "<tr>\n",
       "  <th>Intercept</th> <td>   25.5908</td> <td>    0.366</td> <td>   69.939</td> <td> 0.000</td> <td>   24.873</td> <td>   26.308</td>\n",
       "</tr>\n",
       "<tr>\n",
       "  <th>sn</th>        <td>    1.1237</td> <td>    0.110</td> <td>   10.186</td> <td> 0.000</td> <td>    0.907</td> <td>    1.340</td>\n",
       "</tr>\n",
       "</table>\n",
       "<table class=\"simpletable\">\n",
       "<tr>\n",
       "  <th>Omnibus:</th>       <td>27.581</td> <th>  Durbin-Watson:     </th> <td>   0.293</td>\n",
       "</tr>\n",
       "<tr>\n",
       "  <th>Prob(Omnibus):</th> <td> 0.000</td> <th>  Jarque-Bera (JB):  </th> <td>  20.552</td>\n",
       "</tr>\n",
       "<tr>\n",
       "  <th>Skew:</th>          <td> 0.120</td> <th>  Prob(JB):          </th> <td>3.44e-05</td>\n",
       "</tr>\n",
       "<tr>\n",
       "  <th>Kurtosis:</th>      <td> 2.631</td> <th>  Cond. No.          </th> <td>    8.37</td>\n",
       "</tr>\n",
       "</table><br/><br/>Notes:<br/>[1] Standard Errors assume that the covariance matrix of the errors is correctly specified."
      ],
      "text/plain": [
       "<class 'statsmodels.iolib.summary.Summary'>\n",
       "\"\"\"\n",
       "                            OLS Regression Results                            \n",
       "==============================================================================\n",
       "Dep. Variable:            spike_count   R-squared:                       0.039\n",
       "Model:                            OLS   Adj. R-squared:                  0.039\n",
       "Method:                 Least Squares   F-statistic:                     103.8\n",
       "Date:                Sun, 10 Oct 2021   Prob (F-statistic):           6.55e-24\n",
       "Time:                        12:36:03   Log-Likelihood:                -8880.9\n",
       "No. Observations:                2550   AIC:                         1.777e+04\n",
       "Df Residuals:                    2548   BIC:                         1.778e+04\n",
       "Df Model:                           1                                         \n",
       "Covariance Type:            nonrobust                                         \n",
       "==============================================================================\n",
       "                 coef    std err          t      P>|t|      [0.025      0.975]\n",
       "------------------------------------------------------------------------------\n",
       "Intercept     25.5908      0.366     69.939      0.000      24.873      26.308\n",
       "sn             1.1237      0.110     10.186      0.000       0.907       1.340\n",
       "==============================================================================\n",
       "Omnibus:                       27.581   Durbin-Watson:                   0.293\n",
       "Prob(Omnibus):                  0.000   Jarque-Bera (JB):               20.552\n",
       "Skew:                           0.120   Prob(JB):                     3.44e-05\n",
       "Kurtosis:                       2.631   Cond. No.                         8.37\n",
       "==============================================================================\n",
       "\n",
       "Notes:\n",
       "[1] Standard Errors assume that the covariance matrix of the errors is correctly specified.\n",
       "\"\"\""
      ]
     },
     "execution_count": 22,
     "metadata": {},
     "output_type": "execute_result"
    }
   ],
   "source": [
    "model.summary()"
   ]
  },
  {
   "cell_type": "markdown",
   "id": "suburban-royalty",
   "metadata": {},
   "source": [
    "# Q1c the mean and std of the spike count as a function of ILD"
   ]
  },
  {
   "cell_type": "code",
   "execution_count": 23,
   "id": "peripheral-portal",
   "metadata": {},
   "outputs": [
    {
     "name": "stdout",
     "output_type": "stream",
     "text": [
      "1\n"
     ]
    },
    {
     "name": "stderr",
     "output_type": "stream",
     "text": [
      "<ipython-input-23-12a07d834229>:13: SettingWithCopyWarning: \n",
      "A value is trying to be set on a copy of a slice from a DataFrame\n",
      "\n",
      "See the caveats in the documentation: https://pandas.pydata.org/pandas-docs/stable/user_guide/indexing.html#returning-a-view-versus-a-copy\n",
      "  df['mean_spike_ild'][i] = mean_sn\n",
      "<ipython-input-23-12a07d834229>:14: SettingWithCopyWarning: \n",
      "A value is trying to be set on a copy of a slice from a DataFrame\n",
      "\n",
      "See the caveats in the documentation: https://pandas.pydata.org/pandas-docs/stable/user_guide/indexing.html#returning-a-view-versus-a-copy\n",
      "  df['std_spike_ild'][i] = std_sn\n"
     ]
    },
    {
     "name": "stdout",
     "output_type": "stream",
     "text": [
      "2\n",
      "3\n",
      "4\n",
      "5\n"
     ]
    }
   ],
   "source": [
    "all_sn= []\n",
    "df['mean_spike_ild'] =0\n",
    "df['std_spike_ild'] =0\n",
    "for a in df['ild'].unique():\n",
    "    print(a)\n",
    "    for i in df.index:\n",
    "        if df['ild'][i] == a:\n",
    "            all_sn.append(df['spike_count'][i])\n",
    "    mean_sn = np.mean(all_sn)\n",
    "    std_sn = np.std(all_sn)\n",
    "    for i in df.index:\n",
    "        if df['ild'][i] == a:\n",
    "            df['mean_spike_ild'][i] = mean_sn\n",
    "            df['std_spike_ild'][i] = std_sn"
   ]
  },
  {
   "cell_type": "code",
   "execution_count": 24,
   "id": "middle-contents",
   "metadata": {},
   "outputs": [
    {
     "data": {
      "text/plain": [
       "Text(0.5, 0, 'ild')"
      ]
     },
     "execution_count": 24,
     "metadata": {},
     "output_type": "execute_result"
    },
    {
     "data": {
      "image/png": "[encoded data removed]",
      "text/plain": [
       "<Figure size 432x288 with 1 Axes>"
      ]
     },
     "metadata": {
      "needs_background": "light"
     },
     "output_type": "display_data"
    }
   ],
   "source": [
    "plt.errorbar(df['ild'], df['mean_spike_ild'], yerr= df['std_spike_ild'],marker='s', mfc='red')\n",
    "plt.xlabel('ild')"
   ]
  },
  {
   "cell_type": "markdown",
   "id": "focused-attachment",
   "metadata": {},
   "source": [
    "# Q 1d Fit a linear regression line to the spike count data as a function of ILD."
   ]
  },
  {
   "cell_type": "code",
   "execution_count": 25,
   "id": "instrumental-slope",
   "metadata": {},
   "outputs": [],
   "source": [
    "lr = LinearRegression()"
   ]
  },
  {
   "cell_type": "code",
   "execution_count": 26,
   "id": "enormous-messaging",
   "metadata": {},
   "outputs": [],
   "source": [
    "x1 = np.array(df['ild'])"
   ]
  },
  {
   "cell_type": "code",
   "execution_count": 27,
   "id": "naughty-hometown",
   "metadata": {},
   "outputs": [
    {
     "data": {
      "text/plain": [
       "LinearRegression()"
      ]
     },
     "execution_count": 27,
     "metadata": {},
     "output_type": "execute_result"
    }
   ],
   "source": [
    "lr.fit(x1.reshape((-1,1)), df['spike_count'])"
   ]
  },
  {
   "cell_type": "code",
   "execution_count": 28,
   "id": "growing-collapse",
   "metadata": {},
   "outputs": [
    {
     "data": {
      "text/plain": [
       "array([1.46470588])"
      ]
     },
     "execution_count": 28,
     "metadata": {},
     "output_type": "execute_result"
    }
   ],
   "source": [
    "lr.coef_"
   ]
  },
  {
   "cell_type": "code",
   "execution_count": 29,
   "id": "practical-brunei",
   "metadata": {},
   "outputs": [
    {
     "data": {
      "text/plain": [
       "24.567843137254897"
      ]
     },
     "execution_count": 29,
     "metadata": {},
     "output_type": "execute_result"
    }
   ],
   "source": [
    "lr.intercept_"
   ]
  },
  {
   "cell_type": "code",
   "execution_count": 30,
   "id": "unauthorized-costume",
   "metadata": {},
   "outputs": [
    {
     "data": {
      "image/png": "[encoded data removed]",
      "text/plain": [
       "<Figure size 432x288 with 1 Axes>"
      ]
     },
     "metadata": {
      "needs_background": "light"
     },
     "output_type": "display_data"
    }
   ],
   "source": [
    "plt.plot(df['ild'], df['mean_spike_ild'], '*', label = 'Mean')\n",
    "plt.plot(df['ild'], df['std_spike_ild'], '+', label = 'Standard Deviation')\n",
    "plt.plot(df['ild'], lr.coef_[0]*df['ild']+ lr.intercept_, label = 'Line intercept {}\\n coefficient {}'.format(np.round(lr.coef_[0],3), np.round(lr.intercept_, 3)))\n",
    "plt.xlabel('ild')\n",
    "plt.legend()\n",
    "plt.show()"
   ]
  },
  {
   "cell_type": "code",
   "execution_count": 31,
   "id": "ancient-plenty",
   "metadata": {},
   "outputs": [
    {
     "data": {
      "image/png": "[encoded data removed]",
      "text/plain": [
       "<Figure size 432x288 with 1 Axes>"
      ]
     },
     "metadata": {
      "needs_background": "light"
     },
     "output_type": "display_data"
    }
   ],
   "source": [
    "plt.errorbar(df['ild'], df['mean_spike_ild'], yerr= df['std_spike_ild'],marker='s', mfc='red')\n",
    "plt.plot(df['ild'], lr.coef_[0]*df['ild']+ lr.intercept_, label = 'Line intercept {}\\n coefficient {}'.format(np.round(lr.coef_[0],3), np.round(lr.intercept_, 3)))\n",
    "plt.xlabel('ild')\n",
    "plt.legend()\n",
    "plt.show()"
   ]
  },
  {
   "cell_type": "code",
   "execution_count": 32,
   "id": "unexpected-little",
   "metadata": {},
   "outputs": [
    {
     "name": "stdout",
     "output_type": "stream",
     "text": [
      "The R square value is:  0.0664718459904284\n"
     ]
    }
   ],
   "source": [
    "corr_matrix = np.corrcoef(df['spike_count'], lr.coef_[0]*df['ild']+ lr.intercept_)\n",
    "corr = corr_matrix[0,1]\n",
    "R_square = corr**2\n",
    "print('The R square value is: ', R_square)"
   ]
  },
  {
   "cell_type": "code",
   "execution_count": 33,
   "id": "given-james",
   "metadata": {},
   "outputs": [],
   "source": [
    "model = smf.ols('spike_count ~ ild' , data = df).fit()"
   ]
  },
  {
   "cell_type": "code",
   "execution_count": 34,
   "id": "extensive-persian",
   "metadata": {},
   "outputs": [
    {
     "data": {
      "text/html": [
       "<table class=\"simpletable\">\n",
       "<caption>OLS Regression Results</caption>\n",
       "<tr>\n",
       "  <th>Dep. Variable:</th>       <td>spike_count</td>   <th>  R-squared:         </th> <td>   0.066</td> \n",
       "</tr>\n",
       "<tr>\n",
       "  <th>Model:</th>                   <td>OLS</td>       <th>  Adj. R-squared:    </th> <td>   0.066</td> \n",
       "</tr>\n",
       "<tr>\n",
       "  <th>Method:</th>             <td>Least Squares</td>  <th>  F-statistic:       </th> <td>   181.4</td> \n",
       "</tr>\n",
       "<tr>\n",
       "  <th>Date:</th>             <td>Sun, 10 Oct 2021</td> <th>  Prob (F-statistic):</th> <td>5.34e-40</td> \n",
       "</tr>\n",
       "<tr>\n",
       "  <th>Time:</th>                 <td>12:36:14</td>     <th>  Log-Likelihood:    </th> <td> -8844.1</td> \n",
       "</tr>\n",
       "<tr>\n",
       "  <th>No. Observations:</th>      <td>  2550</td>      <th>  AIC:               </th> <td>1.769e+04</td>\n",
       "</tr>\n",
       "<tr>\n",
       "  <th>Df Residuals:</th>          <td>  2548</td>      <th>  BIC:               </th> <td>1.770e+04</td>\n",
       "</tr>\n",
       "<tr>\n",
       "  <th>Df Model:</th>              <td>     1</td>      <th>                     </th>     <td> </td>    \n",
       "</tr>\n",
       "<tr>\n",
       "  <th>Covariance Type:</th>      <td>nonrobust</td>    <th>                     </th>     <td> </td>    \n",
       "</tr>\n",
       "</table>\n",
       "<table class=\"simpletable\">\n",
       "<tr>\n",
       "      <td></td>         <th>coef</th>     <th>std err</th>      <th>t</th>      <th>P>|t|</th>  <th>[0.025</th>    <th>0.975]</th>  \n",
       "</tr>\n",
       "<tr>\n",
       "  <th>Intercept</th> <td>   24.5678</td> <td>    0.361</td> <td>   68.120</td> <td> 0.000</td> <td>   23.861</td> <td>   25.275</td>\n",
       "</tr>\n",
       "<tr>\n",
       "  <th>ild</th>       <td>    1.4647</td> <td>    0.109</td> <td>   13.470</td> <td> 0.000</td> <td>    1.251</td> <td>    1.678</td>\n",
       "</tr>\n",
       "</table>\n",
       "<table class=\"simpletable\">\n",
       "<tr>\n",
       "  <th>Omnibus:</th>       <td>72.010</td> <th>  Durbin-Watson:     </th> <td>   0.302</td>\n",
       "</tr>\n",
       "<tr>\n",
       "  <th>Prob(Omnibus):</th> <td> 0.000</td> <th>  Jarque-Bera (JB):  </th> <td>  56.530</td>\n",
       "</tr>\n",
       "<tr>\n",
       "  <th>Skew:</th>          <td> 0.280</td> <th>  Prob(JB):          </th> <td>5.30e-13</td>\n",
       "</tr>\n",
       "<tr>\n",
       "  <th>Kurtosis:</th>      <td> 2.534</td> <th>  Cond. No.          </th> <td>    8.37</td>\n",
       "</tr>\n",
       "</table><br/><br/>Notes:<br/>[1] Standard Errors assume that the covariance matrix of the errors is correctly specified."
      ],
      "text/plain": [
       "<class 'statsmodels.iolib.summary.Summary'>\n",
       "\"\"\"\n",
       "                            OLS Regression Results                            \n",
       "==============================================================================\n",
       "Dep. Variable:            spike_count   R-squared:                       0.066\n",
       "Model:                            OLS   Adj. R-squared:                  0.066\n",
       "Method:                 Least Squares   F-statistic:                     181.4\n",
       "Date:                Sun, 10 Oct 2021   Prob (F-statistic):           5.34e-40\n",
       "Time:                        12:36:14   Log-Likelihood:                -8844.1\n",
       "No. Observations:                2550   AIC:                         1.769e+04\n",
       "Df Residuals:                    2548   BIC:                         1.770e+04\n",
       "Df Model:                           1                                         \n",
       "Covariance Type:            nonrobust                                         \n",
       "==============================================================================\n",
       "                 coef    std err          t      P>|t|      [0.025      0.975]\n",
       "------------------------------------------------------------------------------\n",
       "Intercept     24.5678      0.361     68.120      0.000      23.861      25.275\n",
       "ild            1.4647      0.109     13.470      0.000       1.251       1.678\n",
       "==============================================================================\n",
       "Omnibus:                       72.010   Durbin-Watson:                   0.302\n",
       "Prob(Omnibus):                  0.000   Jarque-Bera (JB):               56.530\n",
       "Skew:                           0.280   Prob(JB):                     5.30e-13\n",
       "Kurtosis:                       2.534   Cond. No.                         8.37\n",
       "==============================================================================\n",
       "\n",
       "Notes:\n",
       "[1] Standard Errors assume that the covariance matrix of the errors is correctly specified.\n",
       "\"\"\""
      ]
     },
     "execution_count": 34,
     "metadata": {},
     "output_type": "execute_result"
    }
   ],
   "source": [
    "model.summary()"
   ]
  },
  {
   "cell_type": "markdown",
   "id": "incoming-intake",
   "metadata": {},
   "source": [
    "# Q 1e"
   ]
  },
  {
   "cell_type": "code",
   "execution_count": 35,
   "id": "specified-cycle",
   "metadata": {},
   "outputs": [],
   "source": [
    "linear = LinearRegression()"
   ]
  },
  {
   "cell_type": "code",
   "execution_count": 36,
   "id": "bottom-raise",
   "metadata": {},
   "outputs": [
    {
     "data": {
      "text/plain": [
       "LinearRegression()"
      ]
     },
     "execution_count": 36,
     "metadata": {},
     "output_type": "execute_result"
    }
   ],
   "source": [
    "linear.fit(df[['sn', 'ild']], df['spike_count'])"
   ]
  },
  {
   "cell_type": "code",
   "execution_count": 37,
   "id": "naughty-spine",
   "metadata": {},
   "outputs": [
    {
     "data": {
      "text/plain": [
       "array([1.12372549, 1.46470588])"
      ]
     },
     "execution_count": 37,
     "metadata": {},
     "output_type": "execute_result"
    }
   ],
   "source": [
    "linear.coef_"
   ]
  },
  {
   "cell_type": "code",
   "execution_count": 38,
   "id": "compressed-beginning",
   "metadata": {},
   "outputs": [
    {
     "data": {
      "text/plain": [
       "21.196666666666697"
      ]
     },
     "execution_count": 38,
     "metadata": {},
     "output_type": "execute_result"
    }
   ],
   "source": [
    "linear.intercept_"
   ]
  },
  {
   "cell_type": "code",
   "execution_count": 39,
   "id": "activated-count",
   "metadata": {},
   "outputs": [
    {
     "name": "stdout",
     "output_type": "stream",
     "text": [
      "The R square value is  0.10559711647972249\n"
     ]
    }
   ],
   "source": [
    "corr_matrix = np.corrcoef(df['spike_count'], linear.coef_[0]*df['sn']+linear.coef_[1]*df['ild'] + linear.intercept_)\n",
    "corr = corr_matrix[0,1]\n",
    "R_square = corr**2\n",
    "print('The R square value is ', R_square)"
   ]
  },
  {
   "cell_type": "code",
   "execution_count": 40,
   "id": "continent-drill",
   "metadata": {},
   "outputs": [],
   "source": [
    "import statsmodels.api as sm"
   ]
  },
  {
   "cell_type": "code",
   "execution_count": 41,
   "id": "neutral-newfoundland",
   "metadata": {},
   "outputs": [],
   "source": [
    "x = (df[['sn', 'ild']])\n",
    "y = df['spike_count']\n",
    "model = sm.OLS(y, x)\n",
    "model = model.fit()"
   ]
  },
  {
   "cell_type": "code",
   "execution_count": 42,
   "id": "excellent-daughter",
   "metadata": {},
   "outputs": [
    {
     "data": {
      "text/html": [
       "<table class=\"simpletable\">\n",
       "<caption>OLS Regression Results</caption>\n",
       "<tr>\n",
       "  <th>Dep. Variable:</th>       <td>spike_count</td>   <th>  R-squared (uncentered):</th>      <td>-6384.148</td>\n",
       "</tr>\n",
       "<tr>\n",
       "  <th>Model:</th>                   <td>OLS</td>       <th>  Adj. R-squared (uncentered):</th> <td>-6389.159</td>\n",
       "</tr>\n",
       "<tr>\n",
       "  <th>Method:</th>             <td>Least Squares</td>  <th>  F-statistic:       </th>          <td>  -1274.</td> \n",
       "</tr>\n",
       "<tr>\n",
       "  <th>Date:</th>             <td>Sun, 10 Oct 2021</td> <th>  Prob (F-statistic):</th>           <td>  1.00</td>  \n",
       "</tr>\n",
       "<tr>\n",
       "  <th>Time:</th>                 <td>12:36:20</td>     <th>  Log-Likelihood:    </th>          <td> -9523.4</td> \n",
       "</tr>\n",
       "<tr>\n",
       "  <th>No. Observations:</th>      <td>  2550</td>      <th>  AIC:               </th>          <td>1.905e+04</td>\n",
       "</tr>\n",
       "<tr>\n",
       "  <th>Df Residuals:</th>          <td>  2548</td>      <th>  BIC:               </th>          <td>1.906e+04</td>\n",
       "</tr>\n",
       "<tr>\n",
       "  <th>Df Model:</th>              <td>     2</td>      <th>                     </th>              <td> </td>    \n",
       "</tr>\n",
       "<tr>\n",
       "  <th>Covariance Type:</th>      <td>nonrobust</td>    <th>                     </th>              <td> </td>    \n",
       "</tr>\n",
       "</table>\n",
       "<table class=\"simpletable\">\n",
       "<tr>\n",
       "   <td></td>      <th>coef</th>     <th>std err</th>      <th>t</th>      <th>P>|t|</th>  <th>[0.025</th>    <th>0.975]</th>  \n",
       "</tr>\n",
       "<tr>\n",
       "  <th>sn</th>  <td>    4.3032</td> <td>    0.105</td> <td>   40.881</td> <td> 0.000</td> <td>    4.097</td> <td>    4.510</td>\n",
       "</tr>\n",
       "<tr>\n",
       "  <th>ild</th> <td>    4.6442</td> <td>    0.105</td> <td>   44.120</td> <td> 0.000</td> <td>    4.438</td> <td>    4.851</td>\n",
       "</tr>\n",
       "</table>\n",
       "<table class=\"simpletable\">\n",
       "<tr>\n",
       "  <th>Omnibus:</th>       <td> 5.168</td> <th>  Durbin-Watson:     </th> <td>   0.183</td>\n",
       "</tr>\n",
       "<tr>\n",
       "  <th>Prob(Omnibus):</th> <td> 0.075</td> <th>  Jarque-Bera (JB):  </th> <td>   4.798</td>\n",
       "</tr>\n",
       "<tr>\n",
       "  <th>Skew:</th>          <td>-0.063</td> <th>  Prob(JB):          </th> <td>  0.0908</td>\n",
       "</tr>\n",
       "<tr>\n",
       "  <th>Kurtosis:</th>      <td> 2.829</td> <th>  Cond. No.          </th> <td>    3.16</td>\n",
       "</tr>\n",
       "</table><br/><br/>Notes:<br/>[1] R² is computed without centering (uncentered) since the model does not contain a constant.<br/>[2] Standard Errors assume that the covariance matrix of the errors is correctly specified."
      ],
      "text/plain": [
       "<class 'statsmodels.iolib.summary.Summary'>\n",
       "\"\"\"\n",
       "                                 OLS Regression Results                                \n",
       "=======================================================================================\n",
       "Dep. Variable:            spike_count   R-squared (uncentered):               -6384.148\n",
       "Model:                            OLS   Adj. R-squared (uncentered):          -6389.159\n",
       "Method:                 Least Squares   F-statistic:                             -1274.\n",
       "Date:                Sun, 10 Oct 2021   Prob (F-statistic):                        1.00\n",
       "Time:                        12:36:20   Log-Likelihood:                         -9523.4\n",
       "No. Observations:                2550   AIC:                                  1.905e+04\n",
       "Df Residuals:                    2548   BIC:                                  1.906e+04\n",
       "Df Model:                           2                                                  \n",
       "Covariance Type:            nonrobust                                                  \n",
       "==============================================================================\n",
       "                 coef    std err          t      P>|t|      [0.025      0.975]\n",
       "------------------------------------------------------------------------------\n",
       "sn             4.3032      0.105     40.881      0.000       4.097       4.510\n",
       "ild            4.6442      0.105     44.120      0.000       4.438       4.851\n",
       "==============================================================================\n",
       "Omnibus:                        5.168   Durbin-Watson:                   0.183\n",
       "Prob(Omnibus):                  0.075   Jarque-Bera (JB):                4.798\n",
       "Skew:                          -0.063   Prob(JB):                       0.0908\n",
       "Kurtosis:                       2.829   Cond. No.                         3.16\n",
       "==============================================================================\n",
       "\n",
       "Notes:\n",
       "[1] R² is computed without centering (uncentered) since the model does not contain a constant.\n",
       "[2] Standard Errors assume that the covariance matrix of the errors is correctly specified.\n",
       "\"\"\""
      ]
     },
     "execution_count": 42,
     "metadata": {},
     "output_type": "execute_result"
    }
   ],
   "source": [
    "model.summary()"
   ]
  },
  {
   "cell_type": "markdown",
   "id": "described-needle",
   "metadata": {},
   "source": [
    "# Q2 Information carried by spike count."
   ]
  },
  {
   "cell_type": "markdown",
   "id": "collectible-measure",
   "metadata": {},
   "source": [
    "# Q2a make 2 histograms: p(r|ild=3) and p(r|ild=5)."
   ]
  },
  {
   "cell_type": "code",
   "execution_count": 43,
   "id": "dominican-floating",
   "metadata": {},
   "outputs": [],
   "source": [
    "df_ild3 = df[df['ild'] ==3]\n",
    "un_cn = df_ild3['spike_count'].unique()\n",
    "a = range(5,55,1)\n",
    "pild3 = []\n",
    "for i in a:\n",
    "    count = 0\n",
    "    for t in df_ild3.index:\n",
    "        if df_ild3['spike_count'][t] == i: #& df_ild3['spike_count'][t] > a[i-1]:\n",
    "            count = count + 1\n",
    "            df_ild3 = df_ild3.drop(index = t)\n",
    "    pild3.append(count)\n",
    "df_ild3 = df[df['ild'] ==3]"
   ]
  },
  {
   "cell_type": "code",
   "execution_count": 44,
   "id": "rural-vocabulary",
   "metadata": {},
   "outputs": [],
   "source": [
    "df_ild5 = df[df['ild'] ==5]\n",
    "un_cn = df_ild5['spike_count'].unique()\n",
    "a = range(5,55,1)\n",
    "pild5 = []\n",
    "for i in a:\n",
    "    count = 0\n",
    "    for t in df_ild5.index:\n",
    "        if df_ild5['spike_count'][t] < i: #& df_ild3['spike_count'][t] > a[i-1]:\n",
    "            count = count + 1\n",
    "            df_ild5 = df_ild5.drop(index = t)\n",
    "    pild5.append(count)\n",
    "df_ild5 = df[df['ild'] ==5]"
   ]
  },
  {
   "cell_type": "code",
   "execution_count": 45,
   "id": "tutorial-rouge",
   "metadata": {},
   "outputs": [],
   "source": [
    "pild3 = np.array(pild3)\n",
    "pild3 = pild3/len(df_ild3)"
   ]
  },
  {
   "cell_type": "code",
   "execution_count": 46,
   "id": "spiritual-miami",
   "metadata": {},
   "outputs": [],
   "source": [
    "pild5 = np.array(pild5)\n",
    "pild5 = pild5/len(df_ild5)"
   ]
  },
  {
   "cell_type": "code",
   "execution_count": 47,
   "id": "black-driver",
   "metadata": {},
   "outputs": [
    {
     "data": {
      "image/png": "[encoded data removed]",
      "text/plain": [
       "<Figure size 432x288 with 1 Axes>"
      ]
     },
     "metadata": {
      "needs_background": "light"
     },
     "output_type": "display_data"
    }
   ],
   "source": [
    "plt.bar(a, height = pild3,color = 'r', label = 'r/ild3')\n",
    "plt.bar(a, height = pild5, color='b', label = 'r/ild5')\n",
    "plt.xlabel('spike counts')\n",
    "plt.ylabel('probability')\n",
    "plt.legend()\n",
    "plt.show()"
   ]
  },
  {
   "cell_type": "markdown",
   "id": "overall-language",
   "metadata": {},
   "source": [
    "# Q2b Repeat 2a for p(r|sn=3) and p(r|sn=5)."
   ]
  },
  {
   "cell_type": "code",
   "execution_count": 48,
   "id": "answering-andorra",
   "metadata": {},
   "outputs": [],
   "source": [
    "df_sn3 = df[df['sn'] ==3]\n",
    "un_cn = df_ild3['spike_count'].unique()\n",
    "a = range(5,55,1)\n",
    "psn3 = []\n",
    "for i in a:\n",
    "    count = 0\n",
    "    for t in df_sn3.index:\n",
    "        if df_sn3['spike_count'][t] == i: #& df_ild3['spike_count'][t] > a[i-1]:\n",
    "            count = count + 1\n",
    "            df_sn3 = df_sn3.drop(index = t)\n",
    "    psn3.append(count)\n",
    "df_sn3 = df[df['sn'] ==3]"
   ]
  },
  {
   "cell_type": "code",
   "execution_count": 49,
   "id": "english-determination",
   "metadata": {},
   "outputs": [],
   "source": [
    "df_sn5 = df[df['sn'] ==5]\n",
    "un_cn = df_sn5['spike_count'].unique()\n",
    "a = range(5,55,1)\n",
    "psn5 = []\n",
    "for i in a:\n",
    "    count = 0\n",
    "    for t in df_sn5.index:\n",
    "        if df_sn5['spike_count'][t] < i: #& df_ild3['spike_count'][t] > a[i-1]:\n",
    "            count = count + 1\n",
    "            df_sn5 = df_sn5.drop(index = t)\n",
    "    psn5.append(count)\n",
    "df_sn5 = df[df['sn'] ==5]"
   ]
  },
  {
   "cell_type": "code",
   "execution_count": 50,
   "id": "pretty-alberta",
   "metadata": {},
   "outputs": [],
   "source": [
    "psn3 = np.array(psn3)\n",
    "psn3 = psn3/len(df_sn3)"
   ]
  },
  {
   "cell_type": "code",
   "execution_count": 51,
   "id": "hearing-congress",
   "metadata": {},
   "outputs": [],
   "source": [
    "psn5 = np.array(psn5)\n",
    "psn5 = psn5/len(df_sn5)"
   ]
  },
  {
   "cell_type": "code",
   "execution_count": 52,
   "id": "engaging-brand",
   "metadata": {},
   "outputs": [
    {
     "data": {
      "image/png": "[encoded data removed]",
      "text/plain": [
       "<Figure size 432x288 with 1 Axes>"
      ]
     },
     "metadata": {
      "needs_background": "light"
     },
     "output_type": "display_data"
    }
   ],
   "source": [
    "plt.bar(a, height = psn3,color = 'r', label = 'r/sn3')\n",
    "plt.bar(a, height = psn5, color='b', label = 'r/sn5')\n",
    "plt.xlabel('spike counts')\n",
    "plt.ylabel('probability')\n",
    "plt.legend()\n",
    "plt.show()"
   ]
  },
  {
   "cell_type": "markdown",
   "id": "divine-embassy",
   "metadata": {},
   "source": [
    "## Q 2c From questions 1, 2a, and 2b, would you expect spike count to carry more information about ILD or SN?\n",
    "\n",
    "### SN counts more information about spike count coz it is providing a greater linear correlation with the spike count, a higher R-square value and also has a higher probability distribution in the histogram plot\n"
   ]
  },
  {
   "cell_type": "markdown",
   "id": "imperial-external",
   "metadata": {},
   "source": [
    "# Q2d Compute H(ILD), H(SN), and H(R)."
   ]
  },
  {
   "cell_type": "code",
   "execution_count": 53,
   "id": "southern-compatibility",
   "metadata": {},
   "outputs": [
    {
     "name": "stdout",
     "output_type": "stream",
     "text": [
      "The entropy is  2.321928094887362\n"
     ]
    }
   ],
   "source": [
    "hild =0\n",
    "for i in df['ild'].unique():\n",
    "    df_i = df[df['ild']==i]\n",
    "    pild_i = len(df_i)/len(df)\n",
    "    hild = hild - pild_i*np.log2(pild_i)\n",
    "print('The entropy is ', hild)"
   ]
  },
  {
   "cell_type": "code",
   "execution_count": 54,
   "id": "dimensional-carroll",
   "metadata": {},
   "outputs": [
    {
     "name": "stdout",
     "output_type": "stream",
     "text": [
      "The entropy is  2.321928094887362\n"
     ]
    }
   ],
   "source": [
    "hsn =0\n",
    "for i in df['sn'].unique():\n",
    "    df_i = df[df['sn']==i]\n",
    "    psn_i = len(df_i)/len(df)\n",
    "    hsn = hsn - psn_i*np.log2(psn_i)\n",
    "print('The entropy is ', hsn)"
   ]
  },
  {
   "cell_type": "code",
   "execution_count": 55,
   "id": "congressional-collect",
   "metadata": {},
   "outputs": [
    {
     "name": "stdout",
     "output_type": "stream",
     "text": [
      "The entropy is  5.002630649815191\n"
     ]
    }
   ],
   "source": [
    "hr =0\n",
    "for i in df['spike_count'].unique():\n",
    "    df_i = df[df['spike_count']==i]\n",
    "    pr_i = len(df_i)/len(df)\n",
    "    hr = hr - pr_i*np.log2(pr_i)\n",
    "print('The entropy is ', hr)"
   ]
  },
  {
   "cell_type": "markdown",
   "id": "existing-offense",
   "metadata": {},
   "source": [
    "# Q 2d What’s the maximum value of MI(R;ILD)? MI(R;SN)?\n",
    "\n",
    "## The max value of MI(R;ILD) is H(ILD) since the mutual information can never convey more information than the smallest individual amount of information\n",
    "\n",
    "## The max value of MI(R; SN) is H(SN)\n"
   ]
  },
  {
   "cell_type": "markdown",
   "id": "purple-minnesota",
   "metadata": {},
   "source": [
    "# Q 2e H(R|ILD)"
   ]
  },
  {
   "cell_type": "code",
   "execution_count": 56,
   "id": "german-fountain",
   "metadata": {},
   "outputs": [
    {
     "name": "stdout",
     "output_type": "stream",
     "text": [
      "1.0\n",
      "4.047511220629957\n",
      "0.9999999999999998\n",
      "4.09787993120655\n",
      "0.9999999999999999\n",
      "3.9656772369287108\n",
      "1.0\n",
      "3.9437976538202557\n",
      "1.0\n",
      "3.9633725063674996\n"
     ]
    }
   ],
   "source": [
    "\n",
    "#un_cn = df_ild3['spike_count'].unique()\n",
    "a = range(5,55,1)\n",
    "prob_ild = []\n",
    "for ild in df['ild'].unique():\n",
    "    pild3 = []\n",
    "    df_ild3 = df[df['ild'] ==ild]\n",
    "    for i in df_ild3['spike_count'].unique():\n",
    "        count = 0\n",
    "        for t in df_ild3.index:\n",
    "            if df_ild3['spike_count'][t] == i: #& df_ild3['spike_count'][t] > a[i-1]:\n",
    "                count = count + 1\n",
    "                df_ild3 = df_ild3.drop(index = t)\n",
    "        pild3.append(count)\n",
    "    pild3 = np.array(pild3)  \n",
    "    df_ild3 = df[df['ild'] ==ild]\n",
    "    prob_spike = np.array(pild3)/len(df_ild3)\n",
    "    print(np.sum(prob_spike))\n",
    "    entropy = -np.sum(np.dot(prob_spike,np.log2(prob_spike)))\n",
    "    print(entropy)\n",
    "    prob_ild.append(entropy)"
   ]
  },
  {
   "cell_type": "code",
   "execution_count": 57,
   "id": "digital-occupation",
   "metadata": {},
   "outputs": [
    {
     "name": "stdout",
     "output_type": "stream",
     "text": [
      "THe H(R|ILD) value is 4.003647709790594\n"
     ]
    }
   ],
   "source": [
    "print('THe H(R|ILD) value is' , np.sum(prob_ild)/5)"
   ]
  },
  {
   "cell_type": "markdown",
   "id": "impossible-torture",
   "metadata": {},
   "source": [
    "# Q 2e H(R|SN)"
   ]
  },
  {
   "cell_type": "code",
   "execution_count": 58,
   "id": "present-london",
   "metadata": {},
   "outputs": [
    {
     "name": "stdout",
     "output_type": "stream",
     "text": [
      "1.0\n",
      "4.917445902013304\n",
      "1.0000000000000002\n",
      "4.814181395160432\n",
      "1.0\n",
      "4.851224394312198\n",
      "0.9999999999999999\n",
      "4.815282491516437\n",
      "0.9999999999999998\n",
      "4.773947558967968\n"
     ]
    }
   ],
   "source": [
    "#un_cn = df_ild3['spike_count'].unique()\n",
    "a = range(5,55,1)\n",
    "prob_sn = []\n",
    "for sn in df['sn'].unique():\n",
    "    psn3 = []\n",
    "    df_sn3 = df[df['sn'] ==sn]\n",
    "    for i in df_sn3['spike_count'].unique():\n",
    "        count = 0\n",
    "        for t in df_sn3.index:\n",
    "            if df_sn3['spike_count'][t] == i: #& df_ild3['spike_count'][t] > a[i-1]:\n",
    "                count = count + 1\n",
    "                df_sn3 = df_sn3.drop(index = t)\n",
    "        psn3.append(count)\n",
    "    psn3 = np.array(psn3)  \n",
    "    df_sn3 = df[df['sn'] ==sn]\n",
    "    prob_spike = np.array(psn3)/len(df_sn3)\n",
    "    print(sum(prob_spike))\n",
    "    entropy = -np.sum(np.dot(prob_spike,np.log2(prob_spike)))\n",
    "    print(entropy)\n",
    "    prob_sn.append(entropy)"
   ]
  },
  {
   "cell_type": "code",
   "execution_count": 59,
   "id": "certified-separate",
   "metadata": {},
   "outputs": [
    {
     "name": "stdout",
     "output_type": "stream",
     "text": [
      "The H(R|SN) value is  4.834416348394068\n"
     ]
    }
   ],
   "source": [
    "print('The H(R|SN) value is ' ,np.sum(prob_sn)/5)"
   ]
  },
  {
   "cell_type": "markdown",
   "id": "boolean-microwave",
   "metadata": {},
   "source": [
    "# Q 2f MI(R;ILD) and MI(R;SN)"
   ]
  },
  {
   "cell_type": "code",
   "execution_count": 60,
   "id": "demanding-batch",
   "metadata": {},
   "outputs": [],
   "source": [
    "H_ild = hild\n",
    "H_rild = np.sum(prob_ild)/5"
   ]
  },
  {
   "cell_type": "code",
   "execution_count": 61,
   "id": "described-wrestling",
   "metadata": {},
   "outputs": [
    {
     "name": "stdout",
     "output_type": "stream",
     "text": [
      "The MI(R;ILD) is  -1.681719614903232\n"
     ]
    }
   ],
   "source": [
    "print('The MI(R;ILD) is ', H_ild - H_rild)"
   ]
  },
  {
   "cell_type": "code",
   "execution_count": 62,
   "id": "unique-classics",
   "metadata": {},
   "outputs": [],
   "source": [
    "H_sn = hsn\n",
    "H_rsn = np.sum(prob_sn)/5"
   ]
  },
  {
   "cell_type": "code",
   "execution_count": 63,
   "id": "higher-franchise",
   "metadata": {},
   "outputs": [
    {
     "name": "stdout",
     "output_type": "stream",
     "text": [
      "The MI(R;SN) is  -2.512488253506706\n"
     ]
    }
   ],
   "source": [
    "print('The MI(R;SN) is ', H_sn - H_rsn)"
   ]
  },
  {
   "cell_type": "markdown",
   "id": "exterior-bibliography",
   "metadata": {},
   "source": [
    "# Q 2g Joint entropy H(ILD|SN)"
   ]
  },
  {
   "cell_type": "markdown",
   "id": "fallen-banner",
   "metadata": {},
   "source": [
    "### The joint entropy would be the sum of individual entropies since both ild and sn are independent"
   ]
  },
  {
   "cell_type": "code",
   "execution_count": 64,
   "id": "legendary-charter",
   "metadata": {},
   "outputs": [
    {
     "name": "stdout",
     "output_type": "stream",
     "text": [
      "The H(ILD|SN) is  4.643856189774724\n"
     ]
    }
   ],
   "source": [
    "h_ild_sn = hild + hsn \n",
    "print('The H(ILD|SN) is ', h_ild_sn)"
   ]
  },
  {
   "cell_type": "markdown",
   "id": "informational-authentication",
   "metadata": {},
   "source": [
    "# Q2g Mutual Information MI(R;ILD,SN)"
   ]
  },
  {
   "cell_type": "markdown",
   "id": "freelance-johnson",
   "metadata": {},
   "source": [
    "## MI(R;ILD,SN) = MI(R;ILD) + MI(R;SN|ILD) \n",
    "## and since ILD does not impact on SN, MI(R;SN|ILD) = MI(R;SN)"
   ]
  },
  {
   "cell_type": "code",
   "execution_count": 71,
   "id": "muslim-sense",
   "metadata": {},
   "outputs": [],
   "source": [
    "from collections import defaultdict"
   ]
  },
  {
   "cell_type": "code",
   "execution_count": 72,
   "id": "qualified-river",
   "metadata": {},
   "outputs": [],
   "source": [
    "vals = defaultdict(list)\n",
    "\n",
    "hr_snild = 0\n",
    "\n",
    "for i in range(len(df)):\n",
    "    vals[(df.iloc[i]['ild'], df.iloc[i]['sn'])].append(df.iloc[i]['spike_count'])\n",
    "    \n",
    "for key in vals.keys():\n",
    "    sc = np.array(vals[key])\n",
    "    \n",
    "    minimum,maximum = np.min(sc) , np.max(sc)\n",
    "    pr_s = np.zeros(maximum - minimum + 1)\n",
    "    \n",
    "    hr_snilds = 0\n",
    "    \n",
    "    for j in range(minimum, maximum +1):\n",
    "        pr_s[j - minimum] = ((sc == j).sum())/len(sc)\n",
    "        if pr_s[j - minimum] > 0:\n",
    "            hr_snilds += pr_s[j - minimum]*np.log2(pr_s[j-minimum])\n",
    "    \n",
    "    hr_snilds += -1\n",
    "    hr_snild += (hr_snilds* (1/25))"
   ]
  },
  {
   "cell_type": "code",
   "execution_count": 73,
   "id": "vanilla-suite",
   "metadata": {},
   "outputs": [
    {
     "name": "stdout",
     "output_type": "stream",
     "text": [
      "The MI(R;ILD, SN) is  9.11896939515865\n"
     ]
    }
   ],
   "source": [
    "print('The MI(R;ILD, SN) is ', h_ild_sn - hr_snild )"
   ]
  },
  {
   "cell_type": "markdown",
   "id": "coupled-software",
   "metadata": {},
   "source": [
    "# Q 2h contrast the differences between R2 and MI."
   ]
  },
  {
   "cell_type": "markdown",
   "id": "animal-folder",
   "metadata": {},
   "source": [
    "## R2 value is derived from the correlation of the x and y. \n",
    "\n",
    "### The Cov(X,Y) = summation([p(x,y)  - p(x)p(y)]xy\n",
    "\n",
    "### Whereas Mutual Information is: summation (p(x, y)[ ln p(x, y) - ln(p(x)p(y))])\n",
    "\n",
    "### each contains a point-wise \"measure\" of \"the distance of the two rv's from independence\" as it is expressed by the distance of the joint pmf from the product of the marginal pmf's: the Cov(X,Y) has it as difference of levels, while I(X,Y) has it as difference of logarithms."
   ]
  },
  {
   "cell_type": "markdown",
   "id": "electronic-height",
   "metadata": {},
   "source": [
    "# Q 2h Does firing rate code for SN cues in a linear manner? How about ILD cues?\n",
    "\n",
    "\n",
    "### If you rightly observe the mean variation plot on varying SN on the x-axis, the trend is somewhat parallel to x- axis. That means there is minimal change in the SN on increasing the value of SN. Thus the trend is not really like a linear manner. \n",
    "\n",
    "### In the ILD trend, the mean value firstly increases upto a point with ILD but then stabilizes later on further increasing ILD. Hence this trend is definitely not linear."
   ]
  },
  {
   "cell_type": "markdown",
   "id": "australian-wales",
   "metadata": {},
   "source": [
    "# Q3 \n",
    "\n",
    "## I spent around 3 to 4 hrs on each question and the 2nd question taught me the most. It was convenient to code in python. So didnt have to spend a lot of time debugging the code. "
   ]
  },
  {
   "cell_type": "code",
   "execution_count": null,
   "id": "fuzzy-amendment",
   "metadata": {},
   "outputs": [],
   "source": []
  }
 ],
 "metadata": {
  "kernelspec": {
   "display_name": "Python 3",
   "language": "python",
   "name": "python3"
  },
  "language_info": {
   "codemirror_mode": {
    "name": "ipython",
    "version": 3
   },
   "file_extension": ".py",
   "mimetype": "text/x-python",
   "name": "python",
   "nbconvert_exporter": "python",
   "pygments_lexer": "ipython3",
   "version": "3.8.0"
  }
 },
 "nbformat": 4,
 "nbformat_minor": 5
}
